{
 "cells": [
  {
   "cell_type": "code",
   "execution_count": 118,
   "metadata": {},
   "outputs": [],
   "source": [
    "import numpy as np\n",
    "\n",
    "class Perceptron(object):\n",
    "    \"\"\"Impleents a perceptron network \"\"\"\n",
    "    \n",
    "    def __init__(self,input_size,lr=1,epochs=10):\n",
    "        self.W = np.zeros(input_size+1)\n",
    "        # add one for bias\n",
    "        self.epochs = epochs\n",
    "        self.lr = lr\n",
    "        \n",
    "        \n",
    "    \n",
    "    def fit(self,X,d):\n",
    "        for _ in range(self.epochs):\n",
    "            for i in range(d.shape[0]):\n",
    "                y = self.predict(X[i])\n",
    "                e = d[i] - y\n",
    "                self.W = self.W + self.lr * e * np.insert(X[i],0,1)    \n",
    "                \n",
    "        \n",
    "    def activation_fn(self,x):\n",
    "        return 1 if x >= 0 else 0\n",
    "    \n",
    "    \n",
    "    def predict(self,x):\n",
    "        x = np.insert(x,0,1)\n",
    "        z = self.W.T.dot(x)\n",
    "        a = self.activation_fn(z)\n",
    "        return a\n",
    "    \n",
    "    \n"
   ]
  },
  {
   "cell_type": "code",
   "execution_count": 119,
   "metadata": {},
   "outputs": [],
   "source": [
    "X = np.array([\n",
    "        [0,0],\n",
    "        [0,1],\n",
    "        [1,0],\n",
    "        [1,1]\n",
    "    ])"
   ]
  },
  {
   "cell_type": "code",
   "execution_count": 120,
   "metadata": {},
   "outputs": [],
   "source": [
    "d = np.array([0,0,0,1])\n"
   ]
  },
  {
   "cell_type": "code",
   "execution_count": 121,
   "metadata": {},
   "outputs": [
    {
     "data": {
      "text/plain": [
       "array([[0, 0],\n",
       "       [0, 1],\n",
       "       [1, 0],\n",
       "       [1, 1]])"
      ]
     },
     "execution_count": 121,
     "metadata": {},
     "output_type": "execute_result"
    }
   ],
   "source": [
    "X"
   ]
  },
  {
   "cell_type": "code",
   "execution_count": 122,
   "metadata": {},
   "outputs": [
    {
     "data": {
      "text/plain": [
       "array([0, 0, 0, 1])"
      ]
     },
     "execution_count": 122,
     "metadata": {},
     "output_type": "execute_result"
    }
   ],
   "source": [
    "d"
   ]
  },
  {
   "cell_type": "code",
   "execution_count": 123,
   "metadata": {},
   "outputs": [],
   "source": [
    "perceptron = Perceptron(input_size=2)\n"
   ]
  },
  {
   "cell_type": "code",
   "execution_count": 124,
   "metadata": {},
   "outputs": [
    {
     "data": {
      "text/plain": [
       "array([0., 0., 0.])"
      ]
     },
     "execution_count": 124,
     "metadata": {},
     "output_type": "execute_result"
    }
   ],
   "source": [
    "perceptron.W"
   ]
  },
  {
   "cell_type": "code",
   "execution_count": 125,
   "metadata": {},
   "outputs": [],
   "source": [
    "perceptron.fit(X,d)"
   ]
  },
  {
   "cell_type": "code",
   "execution_count": 126,
   "metadata": {},
   "outputs": [
    {
     "data": {
      "text/plain": [
       "array([-3.,  2.,  1.])"
      ]
     },
     "execution_count": 126,
     "metadata": {},
     "output_type": "execute_result"
    }
   ],
   "source": [
    "perceptron.W"
   ]
  },
  {
   "cell_type": "code",
   "execution_count": 127,
   "metadata": {},
   "outputs": [
    {
     "name": "stdout",
     "output_type": "stream",
     "text": [
      "[-3.  2.  1.]\n"
     ]
    }
   ],
   "source": [
    "\n",
    "print(perceptron.W)"
   ]
  },
  {
   "cell_type": "code",
   "execution_count": 129,
   "metadata": {},
   "outputs": [
    {
     "data": {
      "text/plain": [
       "0"
      ]
     },
     "execution_count": 129,
     "metadata": {},
     "output_type": "execute_result"
    }
   ],
   "source": [
    "perceptron.predict(np.asarray([0,0]))"
   ]
  },
  {
   "cell_type": "code",
   "execution_count": 130,
   "metadata": {},
   "outputs": [
    {
     "data": {
      "text/plain": [
       "1"
      ]
     },
     "execution_count": 130,
     "metadata": {},
     "output_type": "execute_result"
    }
   ],
   "source": [
    "mp = Perceptron(5)\n",
    "x = np.asarray([1,1,0,0,0])\n",
    "mp.predict(x)"
   ]
  },
  {
   "cell_type": "code",
   "execution_count": 131,
   "metadata": {},
   "outputs": [
    {
     "data": {
      "text/plain": [
       "1"
      ]
     },
     "execution_count": 131,
     "metadata": {},
     "output_type": "execute_result"
    }
   ],
   "source": [
    "mp.activation_fn(10)"
   ]
  },
  {
   "cell_type": "code",
   "execution_count": 132,
   "metadata": {},
   "outputs": [
    {
     "data": {
      "text/plain": [
       "array([0., 0., 0., 0., 0., 0.])"
      ]
     },
     "execution_count": 132,
     "metadata": {},
     "output_type": "execute_result"
    }
   ],
   "source": [
    "mp.W"
   ]
  },
  {
   "cell_type": "markdown",
   "metadata": {},
   "source": [
    " ## 1) \n",
    " \n",
    " ### __init__ Fonksiyonu\n",
    " Ağırlık vektörünü oluşturmak için fonksiyon girdi alıyor. Sapmayı dahil edebilmek için bir arttırıyoruz. Fonksiyona devir sayısı ve öğrenme oranını dışarıdan eklenebilir. Parametre olarak eklendiği için değiştirilebilirler.\n",
    " \n",
    " \n",
    "### fit Fonksiyonu\n",
    "Tüm eğitim seti verilerini yineliyoruz. Ayrıca ağırlığı devir sayımız kadar değiştiriyoruz.\n",
    "Ağırlık  güncellenirken  sapmayı girdiye ekliyoruz. Sonra tahmin oluşturarak hatamızı hesaplayabiliriz. Ayrıca güncelleme kuralına dikkat ederek yapıyoruz. Makine eğitme fonksiyonu olarak işlem yapar.\n",
    "\n",
    "### activation_fn Fonksiyonu\n",
    "Bu fonksiyon eşik değeri belirler.Eğer girdi 0 dan büyük veya eşitse 1 değilse 0 döndürüyoruz. Bu işlemi yaparak gelen input değeri için çıkacak output değerini buluruz.\n",
    "\n",
    "\n",
    "### predict Fonksiyonu\n",
    "Girdiyi çalıştırmak ve çıktı döndürmek için yazılan tahmin fonksiyonudur.Eğilimi giriş vektörüne ekliyoruz ardından iç çarpımı hesaplıyoruz. Aktivasyon fonksiyonunu kullanıyoruz. Makineyi eğittikten sonra input'un sonucunu tahmin ediyoruz.\n"
   ]
  },
  {
   "cell_type": "markdown",
   "metadata": {},
   "source": [
    "## 2) \n",
    "\n",
    "\n",
    "###  XOR İşlemi Sonucu\n",
    "\n",
    "X = np.array([\n",
    "        [0,0],\n",
    "        [0,1],\n",
    "        [1,0],\n",
    "        [1,1]\n",
    "    ])\n",
    "\n",
    "d = np.array([0,1,1,0])\n",
    "\n",
    "\n",
    "perceptron = Perceptron(input_size=2)\n",
    "\n",
    "perceptron.fit(X,d)\n",
    "\n",
    "print(perceptron.W) ->> [ 0. -1.  0.]\n",
    "\n",
    "### Fonksiyon sonucu hesaplanan değerler\n",
    "\n",
    "perceptron.predict(np.asarray([0,0])) --> 1\n",
    "\n",
    "perceptron.predict(np.asarray([1,0])) --> 0\n",
    "\n",
    "perceptron.predict(np.asarray([0,1])) --> 1\n",
    "\n",
    "perceptron.predict(np.asarray([1,1])) --> 0\n",
    "\n",
    "Yapılan işlemlerden sonra çıkan sonuçta XOR işlemi yapıldığında sonuçlarımız doğru outpuları vermedi.\n",
    "Yalnızca doğrusal ayrılabilen sorunları çözebilmektedirler. XOR ise doğrusal olarak ayrılamadığından tek katmanlı işlemler için XOR kapısı için kullanmamalıyız."
   ]
  },
  {
   "cell_type": "markdown",
   "metadata": {},
   "source": [
    "## 3)\n",
    "\n",
    " X inputları, d ise beklenen outputları ifade etmekter. Öğrenci sayımız 40 olduğu için öğrenci imzaları için 40 elemanlı bir dizi gereklidir. Predict fonksiyonuna öğrenci imzaları verilir. Girdiler işlenir ve sonucunda imzanın kime ait olduğu hakkında bilgi output olarak elde edilmiş olur."
   ]
  },
  {
   "cell_type": "markdown",
   "metadata": {},
   "source": [
    "## 4)\n",
    "\n",
    "Yapılan denemeler sonucu elde edilen toplam verilere hatalı verilerinin toplamını bölerek hatalı olma olasığını buluruz.Böyle hata oranını hesaplamış oluruz.\n"
   ]
  }
 ],
 "metadata": {
  "kernelspec": {
   "display_name": "Python 3",
   "language": "python",
   "name": "python3"
  },
  "language_info": {
   "codemirror_mode": {
    "name": "ipython",
    "version": 3
   },
   "file_extension": ".py",
   "mimetype": "text/x-python",
   "name": "python",
   "nbconvert_exporter": "python",
   "pygments_lexer": "ipython3",
   "version": "3.8.5"
  }
 },
 "nbformat": 4,
 "nbformat_minor": 4
}
